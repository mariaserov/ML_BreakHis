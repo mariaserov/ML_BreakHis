{
 "cells": [
  {
   "cell_type": "code",
   "execution_count": 4,
   "id": "82b9b757",
   "metadata": {},
   "outputs": [],
   "source": [
    "import pickle\n",
    "import pandas as pd"
   ]
  },
  {
   "cell_type": "code",
   "execution_count": 2,
   "id": "dabc7e62",
   "metadata": {},
   "outputs": [
    {
     "name": "stderr",
     "output_type": "stream",
     "text": [
      "2025-04-24 12:47:26.694011: I tensorflow/core/platform/cpu_feature_guard.cc:210] This TensorFlow binary is optimized to use available CPU instructions in performance-critical operations.\n",
      "To enable the following instructions: SSE4.1 SSE4.2 AVX AVX2 FMA, in other operations, rebuild TensorFlow with the appropriate compiler flags.\n",
      "/rds/general/user/js4124/home/anaconda3/envs/ml_py/lib/python3.9/site-packages/keras/src/saving/saving_lib.py:757: UserWarning: Skipping variable loading for optimizer 'rmsprop', because it has 296 variables whereas the saved optimizer has 590 variables. \n",
      "  saveable.load_own_variables(weights_store.get(inner_path))\n"
     ]
    }
   ],
   "source": [
    "with (open(f\"densenet_hpo/history/hpo_history_1_binary.pickle\", \"rb\")) as openfile:\n",
    "        binary_h =pickle.load(openfile)\n",
    "     "
   ]
  },
  {
   "cell_type": "code",
   "execution_count": 5,
   "id": "82777880",
   "metadata": {},
   "outputs": [
    {
     "name": "stdout",
     "output_type": "stream",
     "text": [
      "   Epoch  Train Accuracy  Train Loss  Validation Accuracy  Validation Loss\n",
      "0      0        0.911512    0.238965             0.940661         0.159166\n",
      "1      1        0.962027    0.111596             0.933918         0.171113\n",
      "2      2        0.981787    0.057054             0.964936         0.102689\n",
      "3      3        0.986082    0.043342             0.946730         0.204000\n",
      "4      4        0.989347    0.033765             0.959541         0.143718\n",
      "5      5        0.989519    0.036471             0.964936         0.126551\n",
      "6      6        0.993814    0.022435             0.836143         0.635874\n",
      "7      7        0.992612    0.022478             0.921106         0.252852\n"
     ]
    }
   ],
   "source": [
    "data = {\n",
    "    'Epoch': list(range(len(binary_h.history['accuracy']))),\n",
    "    'Train Accuracy': binary_h.history['accuracy'],\n",
    "    'Train Loss': binary_h.history['loss'],\n",
    "    'Validation Accuracy': binary_h.history['val_accuracy'],\n",
    "    'Validation Loss': binary_h.history['val_loss']\n",
    "}\n",
    "\n",
    "binary_df = pd.DataFrame(data)\n",
    "print(binary_df)\n",
    "binary_df.to_csv('/rds/general/user/js4124/home/ML_BreakHis/DenseNet/holdout_result/binary_1/binary_hpo_history.csv', index=False)\n"
   ]
  },
  {
   "cell_type": "code",
   "execution_count": 6,
   "id": "af93dffd",
   "metadata": {},
   "outputs": [
    {
     "name": "stderr",
     "output_type": "stream",
     "text": [
      "/rds/general/user/js4124/home/anaconda3/envs/ml_py/lib/python3.9/site-packages/keras/src/saving/saving_lib.py:757: UserWarning: Skipping variable loading for optimizer 'rmsprop', because it has 296 variables whereas the saved optimizer has 590 variables. \n",
      "  saveable.load_own_variables(weights_store.get(inner_path))\n"
     ]
    }
   ],
   "source": [
    "with (open(f\"densenet_hpo/history/hpo_history_0_multi.pickle\", \"rb\")) as openfile:\n",
    "        multi_h =pickle.load(openfile)"
   ]
  },
  {
   "cell_type": "code",
   "execution_count": 8,
   "id": "35b1efbf",
   "metadata": {},
   "outputs": [
    {
     "name": "stdout",
     "output_type": "stream",
     "text": [
      "    Epoch  Train Accuracy  Train Loss  Validation Accuracy  Validation Loss\n",
      "0       0        0.573883    1.223081             0.712744         0.815517\n",
      "1       1        0.772509    0.626361             0.763318         0.644406\n",
      "2       2        0.861168    0.389147             0.796359         0.557162\n",
      "3       3        0.914089    0.251512             0.807148         0.642182\n",
      "4       4        0.933333    0.188057             0.739042         0.856613\n",
      "5       5        0.950172    0.148071             0.809845         0.614249\n",
      "6       6        0.953780    0.131748             0.817937         0.542278\n",
      "7       7        0.958763    0.117624             0.776129         0.874445\n",
      "8       8        0.954983    0.123091             0.801753         0.678628\n",
      "9       9        0.966495    0.095217             0.824680         0.544420\n",
      "10     10        0.963574    0.103899             0.788941         0.884279\n",
      "11     11        0.970275    0.081053             0.789616         1.218068\n"
     ]
    }
   ],
   "source": [
    "data = {\n",
    "    'Epoch': list(range(len(multi_h.history['accuracy']))),\n",
    "    'Train Accuracy': multi_h.history['accuracy'],\n",
    "    'Train Loss': multi_h.history['loss'],\n",
    "    'Validation Accuracy': multi_h.history['val_accuracy'],\n",
    "    'Validation Loss': multi_h.history['val_loss']\n",
    "}\n",
    "\n",
    "multi_df = pd.DataFrame(data)\n",
    "print(multi_df)\n",
    "multi_df.to_csv('/rds/general/user/js4124/home/ML_BreakHis/DenseNet/holdout_result/multi_hpo_history.csv', index=False)\n"
   ]
  }
 ],
 "metadata": {
  "kernelspec": {
   "display_name": "ml_py",
   "language": "python",
   "name": "python3"
  },
  "language_info": {
   "codemirror_mode": {
    "name": "ipython",
    "version": 3
   },
   "file_extension": ".py",
   "mimetype": "text/x-python",
   "name": "python",
   "nbconvert_exporter": "python",
   "pygments_lexer": "ipython3",
   "version": "3.9.21"
  }
 },
 "nbformat": 4,
 "nbformat_minor": 5
}
