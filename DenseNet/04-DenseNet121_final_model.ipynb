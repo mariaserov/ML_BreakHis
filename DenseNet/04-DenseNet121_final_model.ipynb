{
 "cells": [
  {
   "cell_type": "code",
   "execution_count": 2,
   "id": "82b9b757",
   "metadata": {},
   "outputs": [],
   "source": [
    "import pickle"
   ]
  },
  {
   "cell_type": "code",
   "execution_count": 10,
   "id": "dabc7e62",
   "metadata": {},
   "outputs": [
    {
     "name": "stderr",
     "output_type": "stream",
     "text": [
      "/rds/general/user/js4124/home/anaconda3/envs/ml_py/lib/python3.9/site-packages/keras/src/saving/saving_lib.py:757: UserWarning: Skipping variable loading for optimizer 'rmsprop', because it has 296 variables whereas the saved optimizer has 590 variables. \n",
      "  saveable.load_own_variables(weights_store.get(inner_path))\n"
     ]
    }
   ],
   "source": [
    "with (open(f\"densenet_hpo/history/hpo_history_1_binary.pickle\", \"rb\")) as openfile:\n",
    "        binary_h =pickle.load(openfile)\n",
    "     "
   ]
  },
  {
   "cell_type": "code",
   "execution_count": 20,
   "id": "82777880",
   "metadata": {},
   "outputs": [
    {
     "name": "stdout",
     "output_type": "stream",
     "text": [
      "    Epoch  Train Accuracy  Train Loss  Validation Accuracy  Validation Loss\n",
      "0       0        0.901203    0.247402             0.935266         0.175047\n",
      "1       1        0.965808    0.102344             0.927175         0.179861\n",
      "2       2        0.980412    0.060824             0.967633         0.108298\n",
      "3       3        0.985567    0.043739             0.911666         0.246676\n",
      "4       4        0.988144    0.036167             0.907620         0.258448\n",
      "5       5        0.990893    0.030645             0.902225         0.317128\n",
      "6       6        0.988832    0.034433             0.967633         0.097280\n",
      "7       7        0.992783    0.026299             0.908968         0.295305\n",
      "8       8        0.987972    0.042583             0.944032         0.175321\n",
      "9       9        0.996564    0.017309             0.928523         0.334268\n",
      "10     10        0.995876    0.015209             0.962913         0.186175\n",
      "11     11        0.996907    0.014528             0.919757         0.464561\n"
     ]
    }
   ],
   "source": [
    "data = {\n",
    "    'Epoch': list(range(len(binary_h.history['accuracy']))),\n",
    "    'Train Accuracy': binary_h.history['accuracy'],\n",
    "    'Train Loss': binary_h.history['loss'],\n",
    "    'Validation Accuracy': binary_h.history['val_accuracy'],\n",
    "    'Validation Loss': binary_h.history['val_loss']\n",
    "}\n",
    "\n",
    "binary_df = pd.DataFrame(data)\n",
    "print(binary_df)\n",
    "binary_df.to_csv('/rds/general/user/js4124/home/ML_BreakHis/DenseNet/holdout_result/binary_1/binary_hpo_history.csv', index=False)\n"
   ]
  },
  {
   "cell_type": "code",
   "execution_count": null,
   "id": "af93dffd",
   "metadata": {},
   "outputs": [],
   "source": []
  }
 ],
 "metadata": {
  "kernelspec": {
   "display_name": "Python (ml_py)",
   "language": "python",
   "name": "ml_py"
  },
  "language_info": {
   "codemirror_mode": {
    "name": "ipython",
    "version": 3
   },
   "file_extension": ".py",
   "mimetype": "text/x-python",
   "name": "python",
   "nbconvert_exporter": "python",
   "pygments_lexer": "ipython3",
   "version": "3.9.21"
  }
 },
 "nbformat": 4,
 "nbformat_minor": 5
}
