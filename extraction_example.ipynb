{
 "cells": [
  {
   "cell_type": "code",
   "execution_count": 2,
   "metadata": {},
   "outputs": [],
   "source": [
    "import os\n",
    "import numpy as np\n",
    "import pandas as pd\n",
    "import cv2\n",
    "from sklearn.model_selection import train_test_split\n",
    "from tensorflow.keras.utils import to_categorical\n",
    "from tensorflow.keras.models import Sequential\n",
    "from tensorflow.keras.layers import Conv2D, MaxPooling2D, Flatten, Dense, Dropout"
   ]
  },
  {
   "cell_type": "code",
   "execution_count": null,
   "metadata": {},
   "outputs": [
    {
     "name": "stdout",
     "output_type": "stream",
     "text": [
      "DataFrame shape: (7909, 2)\n",
      "                                            filepath   label\n",
      "0  C:\\Users\\abbyh\\OneDrive\\Desktop\\MSc Health Dat...  benign\n",
      "1  C:\\Users\\abbyh\\OneDrive\\Desktop\\MSc Health Dat...  benign\n",
      "2  C:\\Users\\abbyh\\OneDrive\\Desktop\\MSc Health Dat...  benign\n",
      "3  C:\\Users\\abbyh\\OneDrive\\Desktop\\MSc Health Dat...  benign\n",
      "4  C:\\Users\\abbyh\\OneDrive\\Desktop\\MSc Health Dat...  benign\n"
     ]
    }
   ],
   "source": [
    "##  CLASSES ONLY\n",
    "\n",
    "# Load metadata\n",
    "data_dir = r\"C:\\Users\\abbyh\\OneDrive\\Desktop\\MSc Health Data Analytics and Machine Learning\\ML\\ML Project\\archive (3)\\BreaKHis_v1\\BreaKHis_v1\\histology_slides\\breast\" \n",
    "metadata = []\n",
    "for root, dirs, files in os.walk(data_dir):\n",
    "    for file in files:\n",
    "        if file.endswith(\".png\"):\n",
    "            # Extract label from the folder structure\n",
    "            label = \"malignant\" if \"malignant\" in root else \"benign\"\n",
    "            metadata.append((os.path.join(root, file), label))\n",
    "\n",
    "# Convert to DataFrame\n",
    "df = pd.DataFrame(metadata, columns=[\"filepath\", \"label\"])\n",
    "\n",
    "# Debugging: Check the shape and first few rows of the DataFrame\n",
    "print(f\"DataFrame shape: {df.shape}\")\n",
    "print(df.head())\n",
    "\n"
   ]
  },
  {
   "cell_type": "code",
   "execution_count": null,
   "metadata": {},
   "outputs": [
    {
     "name": "stdout",
     "output_type": "stream",
     "text": [
      "DataFrame shape: (7909, 3)\n",
      "                                            filepath   label magnification\n",
      "0  C:\\Users\\OneDrive\\Desktop\\MSc Health Dat...  benign          100X\n",
      "1  C:\\Users\\abbyh\\OneDrive\\Desktop\\MSc Health Dat...  benign          100X\n",
      "2  C:\\Users\\abbyh\\OneDrive\\Desktop\\MSc Health Dat...  benign          100X\n",
      "3  C:\\Users\\abbyh\\OneDrive\\Desktop\\MSc Health Dat...  benign          100X\n",
      "4  C:\\Users\\abbyh\\OneDrive\\Desktop\\MSc Health Dat...  benign          100X\n"
     ]
    }
   ],
   "source": [
    "## CLASSSES + MAGNIFICATION\n",
    "\n",
    "# Load metadata\n",
    "data_dir = r\"C:\\Users\\abbyh\\OneDrive\\Desktop\\MSc Health Data Analytics and Machine Learning\\ML\\ML Project\\archive (3)\\BreaKHis_v1\\BreaKHis_v1\\histology_slides\\breast\"\n",
    "metadata = []\n",
    "for root, dirs, files in os.walk(data_dir):\n",
    "    for file in files:\n",
    "        if file.endswith(\".png\"):\n",
    "            # Extract label from the folder structure\n",
    "            label = \"malignant\" if \"malignant\" in root else \"benign\"\n",
    "            \n",
    "            # Extract magnification from the folder name or filename\n",
    "            magnification = None\n",
    "            # Option 1: Extract from folder name (e.g., \"40X\", \"100X\", etc.)\n",
    "            for part in root.split(os.sep):\n",
    "                if part.endswith(\"X\") and part[:-1].isdigit():  # Check for patterns like \"40X\", \"100X\", etc.\n",
    "                    magnification = part\n",
    "                    break\n",
    "            \n",
    "            # Option 2: Extract from filename (e.g., \"SOB_B_A-14-22549AB-40-001.png\")\n",
    "            if magnification is None:\n",
    "                match = re.search(r\"\\d{2,3}X\", file)  # Look for patterns like \"40X\", \"100X\", etc.\n",
    "                if match:\n",
    "                    magnification = match.group(0)\n",
    "            \n",
    "            # Append filepath, label, and magnification to metadata\n",
    "            metadata.append((os.path.join(root, file), label, magnification))\n",
    "\n",
    "# Convert to DataFrame\n",
    "df = pd.DataFrame(metadata, columns=[\"filepath\", \"label\", \"magnification\"])\n",
    "\n",
    "# Debugging: Check the shape and first few rows of the DataFrame\n",
    "print(f\"DataFrame shape: {df.shape}\")\n",
    "print(df.head())"
   ]
  },
  {
   "cell_type": "code",
   "execution_count": 3,
   "metadata": {},
   "outputs": [
    {
     "name": "stdout",
     "output_type": "stream",
     "text": [
      "DataFrame shape: (7909, 4)\n",
      "                                            filepath   label magnification  \\\n",
      "0  C:\\Users\\abbyh\\OneDrive\\Desktop\\MSc Health Dat...  benign          100X   \n",
      "1  C:\\Users\\abbyh\\OneDrive\\Desktop\\MSc Health Dat...  benign          100X   \n",
      "2  C:\\Users\\abbyh\\OneDrive\\Desktop\\MSc Health Dat...  benign          100X   \n",
      "3  C:\\Users\\abbyh\\OneDrive\\Desktop\\MSc Health Dat...  benign          100X   \n",
      "4  C:\\Users\\abbyh\\OneDrive\\Desktop\\MSc Health Dat...  benign          100X   \n",
      "\n",
      "  tumor_subtype  \n",
      "0      adenosis  \n",
      "1      adenosis  \n",
      "2      adenosis  \n",
      "3      adenosis  \n",
      "4      adenosis  \n"
     ]
    }
   ],
   "source": [
    "## CLASSES + MAGNIFICATION + SUBTYPE\n",
    "\n",
    "# Load metadata\n",
    "data_dir = r\"C:\\Users\\abbyh\\OneDrive\\Desktop\\MSc Health Data Analytics and Machine Learning\\ML\\ML Project\\archive (3)\\BreaKHis_v1\\BreaKHis_v1\\histology_slides\\breast\"\n",
    "metadata = []\n",
    "for root, dirs, files in os.walk(data_dir):\n",
    "    for file in files:\n",
    "        if file.endswith(\".png\"):\n",
    "            # Extract label from the folder structure\n",
    "            label = \"malignant\" if \"malignant\" in root else \"benign\"\n",
    "            \n",
    "            # Extract magnification from the folder name or filename\n",
    "            magnification = None\n",
    "            # Option 1: Extract from folder name (e.g., \"40X\", \"100X\", etc.)\n",
    "            for part in root.split(os.sep):\n",
    "                if part.endswith(\"X\") and part[:-1].isdigit():  # Check for patterns like \"40X\", \"100X\", etc.\n",
    "                    magnification = part\n",
    "                    break\n",
    "            \n",
    "            # Option 2: Extract from filename (e.g., \"SOB_B_A-14-22549AB-40-001.png\")\n",
    "            if magnification is None:\n",
    "                match = re.search(r\"\\d{2,3}X\", file)  # Look for patterns like \"40X\", \"100X\", etc.\n",
    "                if match:\n",
    "                    magnification = match.group(0)\n",
    "            \n",
    "            # Extract tumor subtype from the folder structure\n",
    "            tumor_subtype = None\n",
    "            for part in root.split(os.sep):\n",
    "                if part in [\"adenosis\", \"fibroadenoma\", \"phyllodes_tumor\", \"tubular_adenoma\",  # Benign subtypes\n",
    "                           \"ductal_carcinoma\", \"lobular_carcinoma\", \"mucinous_carcinoma\", \"papillary_carcinoma\"]:  # Malignant subtypes\n",
    "                    tumor_subtype = part\n",
    "                    break\n",
    "            \n",
    "            # Append filepath, label, magnification, and tumor subtype to metadata\n",
    "            metadata.append((os.path.join(root, file), label, magnification, tumor_subtype))\n",
    "\n",
    "# Convert to DataFrame\n",
    "df = pd.DataFrame(metadata, columns=[\"filepath\", \"label\", \"magnification\", \"tumor_subtype\"])\n",
    "\n",
    "# Debugging: Check the shape and first few rows of the DataFrame\n",
    "print(f\"DataFrame shape: {df.shape}\")\n",
    "print(df.head())"
   ]
  },
  {
   "cell_type": "code",
   "execution_count": null,
   "metadata": {},
   "outputs": [],
   "source": []
  },
  {
   "cell_type": "code",
   "execution_count": null,
   "metadata": {},
   "outputs": [],
   "source": [
    "df = df.sample(frac=0.1, random_state=42)  "
   ]
  },
  {
   "cell_type": "code",
   "execution_count": 36,
   "metadata": {},
   "outputs": [
    {
     "name": "stdout",
     "output_type": "stream",
     "text": [
      "Training samples: 632\n",
      "Testing samples: 159\n"
     ]
    }
   ],
   "source": [
    "# Preprocess images\n",
    "def preprocess_image(filepath, target_size=(128, 128)):\n",
    "    image = cv2.imread(filepath)\n",
    "    image = cv2.resize(image, target_size)\n",
    "    image = image / 255.0  # Normalize to [0, 1]\n",
    "    return image\n",
    "\n",
    "# Load and preprocess images\n",
    "X = []\n",
    "y = []\n",
    "for filepath, label, _ in df.values:  # Ignore magnification for now\n",
    "    image = preprocess_image(filepath)\n",
    "    if image is not None:\n",
    "        X.append(image)\n",
    "        y.append(1 if label == \"malignant\" else 0)  # Convert labels to binary (0: benign, 1: malignant)\n",
    "\n",
    "X = np.array(X)\n",
    "y = np.array(y)\n",
    "y = to_categorical(y, num_classes=2)  # One-hot encoding\n",
    "\n",
    "# Split data into train and test sets\n",
    "X_train, X_test, y_train, y_test = train_test_split(X, y, test_size=0.2, random_state=42)\n",
    "print(f\"Training samples: {len(X_train)}\")\n",
    "print(f\"Testing samples: {len(X_test)}\")"
   ]
  },
  {
   "cell_type": "code",
   "execution_count": null,
   "metadata": {},
   "outputs": [],
   "source": []
  },
  {
   "cell_type": "code",
   "execution_count": null,
   "metadata": {},
   "outputs": [],
   "source": []
  },
  {
   "cell_type": "code",
   "execution_count": null,
   "metadata": {},
   "outputs": [],
   "source": []
  },
  {
   "cell_type": "code",
   "execution_count": null,
   "metadata": {},
   "outputs": [],
   "source": []
  }
 ],
 "metadata": {
  "kernelspec": {
   "display_name": "Python 3",
   "language": "python",
   "name": "python3"
  },
  "language_info": {
   "codemirror_mode": {
    "name": "ipython",
    "version": 3
   },
   "file_extension": ".py",
   "mimetype": "text/x-python",
   "name": "python",
   "nbconvert_exporter": "python",
   "pygments_lexer": "ipython3",
   "version": "3.12.0"
  }
 },
 "nbformat": 4,
 "nbformat_minor": 2
}
