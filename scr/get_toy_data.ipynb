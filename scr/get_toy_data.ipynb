{
 "cells": [
  {
   "cell_type": "code",
   "execution_count": 4,
   "metadata": {},
   "outputs": [],
   "source": [
    "import kagglehub\n",
    "import os\n",
    "import numpy as np\n",
    "import pandas as pd"
   ]
  },
  {
   "cell_type": "code",
   "execution_count": 5,
   "metadata": {},
   "outputs": [
    {
     "data": {
      "text/plain": [
       "'/rds/general/user/ms7024/home/ML_BreakHis/scr'"
      ]
     },
     "execution_count": 5,
     "metadata": {},
     "output_type": "execute_result"
    }
   ],
   "source": [
    "os.getcwd()"
   ]
  },
  {
   "cell_type": "code",
   "execution_count": null,
   "metadata": {},
   "outputs": [],
   "source": [
    "metadata = \"../data/metadata.csv\"\n",
    "df = pd.read_csv(metadata, index_col='Unnamed: 0')\n",
    "print(df.head)"
   ]
  },
  {
   "cell_type": "code",
   "execution_count": 9,
   "metadata": {},
   "outputs": [],
   "source": [
    "import shutil\n",
    "n = 100 # number of random images to sample\n",
    "\n",
    "toy_data_dir = \"../data/toy_data\"\n",
    "os.makedirs(toy_data_dir, exist_ok=True) # create directory\n",
    "df_sample = df.sample(n=n, random_state=42).reset_index(drop=True) \n",
    "\n",
    "for i, row in df_sample.iterrows(): # copy images to toy_data directory\n",
    "    src = row['filepath']\n",
    "    dst = os.path.join(toy_data_dir, os.path.basename(src))\n",
    "    shutil.copyfile(src, dst)\n",
    "    \n",
    "df_sample['filepath'] = df_sample['filepath'].apply(lambda x: os.path.join(toy_data_dir, os.path.basename(x)))\n",
    "df_sample['label'] = df_sample['label'].map({'benign': 0, 'malignant': 1}) # Recode labels to 1= malignant, 0=benign\n",
    "df_sample.to_csv(os.path.join(toy_data_dir, \"toy_metadata.csv\"), index=False)\n"
   ]
  },
  {
   "cell_type": "code",
   "execution_count": null,
   "metadata": {},
   "outputs": [],
   "source": []
  }
 ],
 "metadata": {
  "kernelspec": {
   "display_name": "BreakHis",
   "language": "python",
   "name": "breakhis"
  },
  "language_info": {
   "codemirror_mode": {
    "name": "ipython",
    "version": 3
   },
   "file_extension": ".py",
   "mimetype": "text/x-python",
   "name": "python",
   "nbconvert_exporter": "python",
   "pygments_lexer": "ipython3",
   "version": "3.10.16"
  }
 },
 "nbformat": 4,
 "nbformat_minor": 2
}
