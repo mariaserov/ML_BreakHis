{
 "cells": [
  {
   "cell_type": "code",
   "execution_count": 1,
   "metadata": {},
   "outputs": [
    {
     "name": "stderr",
     "output_type": "stream",
     "text": [
      "/rds/general/user/js4124/home/anaconda3/envs/ml_py/lib/python3.9/site-packages/tqdm/auto.py:21: TqdmWarning: IProgress not found. Please update jupyter and ipywidgets. See https://ipywidgets.readthedocs.io/en/stable/user_install.html\n",
      "  from .autonotebook import tqdm as notebook_tqdm\n",
      "2025-03-26 23:09:17.115786: I tensorflow/core/platform/cpu_feature_guard.cc:210] This TensorFlow binary is optimized to use available CPU instructions in performance-critical operations.\n",
      "To enable the following instructions: SSE4.1 SSE4.2 AVX AVX2 FMA, in other operations, rebuild TensorFlow with the appropriate compiler flags.\n"
     ]
    },
    {
     "name": "stdout",
     "output_type": "stream",
     "text": [
      "11.1.0\n",
      "Warning: Looks like you're using an outdated `kagglehub` version, please consider updating (latest version: 0.3.10)\n",
      "Path to dataset files: /rds/general/user/js4124/home/.cache/kagglehub/datasets/ambarish/breakhis/versions/4\n"
     ]
    }
   ],
   "source": [
    "import kagglehub\n",
    "import os\n",
    "import numpy as np\n",
    "import pandas as pd\n",
    "import cv2\n",
    "import tensorflow as tf\n",
    "import PIL\n",
    "import glob\n",
    "print(PIL.__version__)  # Check if it’s installed correctly\n",
    "from sklearn.model_selection import train_test_split\n",
    "# Get data from kaggle - use these two lines to get BreakHis data!\n",
    "\n",
    "path = kagglehub.dataset_download(\"ambarish/breakhis\")\n",
    "print(\"Path to dataset files:\", path)\n"
   ]
  },
  {
   "cell_type": "code",
   "execution_count": 2,
   "metadata": {},
   "outputs": [],
   "source": [
    "# data_dir = \"../data/versions/4/BreaKHis_v1/BreaKHis_v1/histology_slides/breast\"\n",
    "data_dir = \"../../.cache/kagglehub/datasets/ambarish/breakhis/versions/4\"\n",
    "metadata = []\n",
    "for root, dirs, files in os.walk(data_dir):\n",
    "    for file in files:\n",
    "        if file.endswith(\".png\"):\n",
    "            # Extract label from the folder structure\n",
    "            label = \"malignant\" if \"malignant\" in root else \"benign\"\n",
    "            \n",
    "            # Extract magnification \n",
    "            \n",
    "            magnification = None\n",
    "            for part in root.split(os.sep):\n",
    "                if part.endswith(\"X\") and part[:-1].isdigit(): \n",
    "                    # magnification = part # turn to int\n",
    "                    magnification = int(part[:-1])\n",
    "                    break\n",
    "            \n",
    "            # Extract tumor subtype \n",
    "            tumor_subtype = None\n",
    "            for part in root.split(os.sep):\n",
    "                if part in [\"adenosis\", \"fibroadenoma\", \"phyllodes_tumor\", \"tubular_adenoma\",  # Benign subtypes\n",
    "                           \"ductal_carcinoma\", \"lobular_carcinoma\", \"mucinous_carcinoma\", \"papillary_carcinoma\"]:  # Malignant subtypes\n",
    "                    tumor_subtype = part\n",
    "                    break\n",
    "            \n",
    "            # Append filepath, label, magnification, and tumor subtype to metadata\n",
    "            metadata.append((os.path.join(root, file), label, magnification, tumor_subtype))\n",
    "\n"
   ]
  },
  {
   "cell_type": "code",
   "execution_count": 3,
   "metadata": {},
   "outputs": [
    {
     "name": "stdout",
     "output_type": "stream",
     "text": [
      "DataFrame shape: (7909, 4)\n",
      "                                            filepath   label  magnification  \\\n",
      "0  ../../.cache/kagglehub/datasets/ambarish/break...  benign            100   \n",
      "1  ../../.cache/kagglehub/datasets/ambarish/break...  benign            100   \n",
      "2  ../../.cache/kagglehub/datasets/ambarish/break...  benign            100   \n",
      "3  ../../.cache/kagglehub/datasets/ambarish/break...  benign            100   \n",
      "4  ../../.cache/kagglehub/datasets/ambarish/break...  benign            100   \n",
      "\n",
      "     tumor_subtype  \n",
      "0  tubular_adenoma  \n",
      "1  tubular_adenoma  \n",
      "2  tubular_adenoma  \n",
      "3  tubular_adenoma  \n",
      "4  tubular_adenoma  \n"
     ]
    }
   ],
   "source": [
    "# Convert to DataFrame\n",
    "df = pd.DataFrame(metadata, columns=[\"filepath\", \"label\", \"magnification\", \"tumor_subtype\"])\n",
    "malignant_df = df[df[\"label\"] == \"malignant\"]\n",
    "\n",
    "df.to_csv(\"../data/metadata.csv\")\n",
    "\n",
    "# Debugging: Check the shape and first few rows of the DataFrame\n",
    "print(f\"DataFrame shape: {df.shape}\")\n",
    "print(df.head())"
   ]
  },
  {
   "cell_type": "code",
   "execution_count": 4,
   "metadata": {},
   "outputs": [
    {
     "name": "stdout",
     "output_type": "stream",
     "text": [
      "Train:  (4448, 4)\n",
      "Test:  (1483, 4)\n",
      "Holdout:  (1978, 4)\n"
     ]
    }
   ],
   "source": [
    "train, hold_out = train_test_split(df, test_size=0.25, random_state=42)\n",
    "\n",
    "train, test = train_test_split(train, test_size=0.25, random_state=42)\n",
    "\n",
    "print(\"Train: \", train.shape)\n",
    "print(\"Test: \", test.shape)\n",
    "print(\"Holdout: \", hold_out.shape)\n",
    "\n",
    "train.to_csv(\"../data/train_1.csv\", index=False)\n",
    "test.to_csv(\"../data/test_1.csv\", index=False)\n",
    "hold_out.to_csv(\"../data/holdout_1.csv\", index=False)"
   ]
  },
  {
   "cell_type": "code",
   "execution_count": 5,
   "metadata": {},
   "outputs": [],
   "source": [
    "# df_small = pd.concat([df[df['label'] == 'benign'].sample(3, random_state=42),\n",
    "#                         df[df['label'] != 'benign'].sample(7, random_state=42)])\n",
    "# df_small"
   ]
  },
  {
   "cell_type": "code",
   "execution_count": 6,
   "metadata": {},
   "outputs": [],
   "source": [
    "def augment_and_normalize_images(df, output_folder, target_size=(150, 150)):\n",
    "    # Create an image data generator with augmentation : rotation and flip\n",
    "    datagen = tf.keras.preprocessing.image.ImageDataGenerator(rotation_range=90, horizontal_flip=True)\n",
    "    # each item of the dict is a column not a dataframe\n",
    "    aug_dict = {\n",
    "        \"filepath\": [],\n",
    "        \"label\": [],\n",
    "        \"magnification\": [],\n",
    "        \"tumor_subtype\": []\n",
    "    }\n",
    "\n",
    "    for idx, row in df.iterrows():\n",
    "        filepath, label, mag, subtype = row[\"filepath\"], row[\"label\"], row[\"magnification\"], row[\"tumor_subtype\"]\n",
    "        \n",
    "        image = cv2.imread(filepath)  # Read image\n",
    "        if image is None:\n",
    "            print(f\"Could not load: {filepath}\")\n",
    "            continue\n",
    "        \n",
    "        image = cv2.resize(image, target_size)  # Resize\n",
    "        # Convert BGR to RGB because OpenCV loads in BGR and TensorFlow needs RGB\n",
    "        x = cv2.cvtColor(image, cv2.COLOR_BGR2RGB)  \n",
    "        x = x.astype('float32') / 255.0  # Normalize\n",
    "        x = x.reshape((1,) + x.shape)  # Reshape for ImageDataGenerator\n",
    "        \n",
    "        image = image.astype('float32') / 255.0  # Normalize\n",
    "        save_path_org = os.path.join(output_folder, f\"original_{idx}.png\")\n",
    "\n",
    "        # save normalized original\n",
    "        normalized_image = (x[0] * 255).astype(np.uint8)  # Convert back to uint8 for saving\n",
    "        cv2.imwrite(save_path_org, cv2.cvtColor(normalized_image, cv2.COLOR_RGB2BGR))\n",
    "        \n",
    "        # add the original row in the dict of list (use dict for better efficiency than dataframe)\n",
    "        aug_dict[\"filepath\"].append(save_path_org)\n",
    "        aug_dict[\"label\"].append(label)\n",
    "        aug_dict[\"magnification\"].append(mag)\n",
    "        aug_dict[\"tumor_subtype\"].append(subtype)\n",
    "        \n",
    "        if label == \"malignant\":\n",
    "            continue\n",
    "        \n",
    "        # generate one augmented image per original\n",
    "        for i, batch in enumerate(datagen.flow(x, batch_size=1, save_to_dir=output_folder, save_prefix=f'augmented_{idx}', save_format='png')):\n",
    "            save_path_aug = max(glob.glob(f'{output_folder}/augmented_{idx}*.png'), key=os.path.getctime)\n",
    "            # add the augmented row in the dict of list (use dict for better efficiency than dataframe)\n",
    "            aug_dict[\"filepath\"].append(save_path_aug)\n",
    "            aug_dict[\"label\"].append(label)\n",
    "            aug_dict[\"magnification\"].append(mag)\n",
    "            aug_dict[\"tumor_subtype\"].append(subtype)\n",
    "            if i == 0:\n",
    "                break\n",
    "    aug_df = pd.DataFrame(aug_dict)\n",
    "    return aug_df\n",
    "    \n",
    "                "
   ]
  },
  {
   "cell_type": "code",
   "execution_count": 9,
   "metadata": {},
   "outputs": [],
   "source": [
    "aug_train_df= augment_and_normalize_images(train, \"../train_aug\")"
   ]
  },
  {
   "cell_type": "markdown",
   "metadata": {},
   "source": [
    "1) create augmented_df outside of the loop, at the beginning of the function\n",
    "2) in augmented df, write the full absolute path : for original files it is easy, for augmented images retrieve the path from the loop before the break\n",
    "3) return augmented_df at the end of the function\n",
    "4) call the function and save the return value in a csv"
   ]
  },
  {
   "cell_type": "code",
   "execution_count": 10,
   "metadata": {},
   "outputs": [],
   "source": [
    "aug_train_df.to_csv(\"../data/augmented_train_dataset.csv\", index=False)"
   ]
  },
  {
   "cell_type": "code",
   "execution_count": 11,
   "metadata": {},
   "outputs": [
    {
     "data": {
      "text/plain": [
       "<bound method DataFrame.info of                                                filepath      label  \\\n",
       "658   ../../.cache/kagglehub/datasets/ambarish/break...     benign   \n",
       "4630  ../../.cache/kagglehub/datasets/ambarish/break...  malignant   \n",
       "1274  ../../.cache/kagglehub/datasets/ambarish/break...     benign   \n",
       "4849  ../../.cache/kagglehub/datasets/ambarish/break...  malignant   \n",
       "7291  ../../.cache/kagglehub/datasets/ambarish/break...  malignant   \n",
       "...                                                 ...        ...   \n",
       "5731  ../../.cache/kagglehub/datasets/ambarish/break...  malignant   \n",
       "2985  ../../.cache/kagglehub/datasets/ambarish/break...  malignant   \n",
       "72    ../../.cache/kagglehub/datasets/ambarish/break...     benign   \n",
       "5609  ../../.cache/kagglehub/datasets/ambarish/break...  malignant   \n",
       "7638  ../../.cache/kagglehub/datasets/ambarish/break...  malignant   \n",
       "\n",
       "      magnification        tumor_subtype  \n",
       "658             100      phyllodes_tumor  \n",
       "4630            100     ductal_carcinoma  \n",
       "1274            200         fibroadenoma  \n",
       "4849            200     ductal_carcinoma  \n",
       "7291            100    lobular_carcinoma  \n",
       "...             ...                  ...  \n",
       "5731            100     ductal_carcinoma  \n",
       "2985            400  papillary_carcinoma  \n",
       "72               40      tubular_adenoma  \n",
       "5609            400     ductal_carcinoma  \n",
       "7638            100    lobular_carcinoma  \n",
       "\n",
       "[1483 rows x 4 columns]>"
      ]
     },
     "execution_count": 11,
     "metadata": {},
     "output_type": "execute_result"
    }
   ],
   "source": [
    "test.info"
   ]
  },
  {
   "cell_type": "code",
   "execution_count": 13,
   "metadata": {},
   "outputs": [
    {
     "data": {
      "text/plain": [
       "<bound method DataFrame.info of                                                filepath      label  \\\n",
       "2815  ../../.cache/kagglehub/datasets/ambarish/break...  malignant   \n",
       "5532  ../../.cache/kagglehub/datasets/ambarish/break...  malignant   \n",
       "4553  ../../.cache/kagglehub/datasets/ambarish/break...  malignant   \n",
       "3438  ../../.cache/kagglehub/datasets/ambarish/break...  malignant   \n",
       "3023  ../../.cache/kagglehub/datasets/ambarish/break...  malignant   \n",
       "...                                                 ...        ...   \n",
       "6354  ../../.cache/kagglehub/datasets/ambarish/break...  malignant   \n",
       "7308  ../../.cache/kagglehub/datasets/ambarish/break...  malignant   \n",
       "5234  ../../.cache/kagglehub/datasets/ambarish/break...  malignant   \n",
       "2251  ../../.cache/kagglehub/datasets/ambarish/break...     benign   \n",
       "964   ../../.cache/kagglehub/datasets/ambarish/break...     benign   \n",
       "\n",
       "      magnification        tumor_subtype  \n",
       "2815             40  papillary_carcinoma  \n",
       "5532            200     ductal_carcinoma  \n",
       "4553            100     ductal_carcinoma  \n",
       "3438            100   mucinous_carcinoma  \n",
       "3023            200  papillary_carcinoma  \n",
       "...             ...                  ...  \n",
       "6354             40     ductal_carcinoma  \n",
       "7308            100    lobular_carcinoma  \n",
       "5234            100     ductal_carcinoma  \n",
       "2251            100             adenosis  \n",
       "964             400      phyllodes_tumor  \n",
       "\n",
       "[1978 rows x 4 columns]>"
      ]
     },
     "execution_count": 13,
     "metadata": {},
     "output_type": "execute_result"
    }
   ],
   "source": [
    "hold_out.info"
   ]
  },
  {
   "cell_type": "code",
   "execution_count": 15,
   "metadata": {},
   "outputs": [
    {
     "data": {
      "text/plain": [
       "<bound method DataFrame.info of                                     filepath      label  magnification  \\\n",
       "0             ../train_aug/original_2621.png  malignant            400   \n",
       "1             ../train_aug/original_4985.png  malignant            200   \n",
       "2             ../train_aug/original_3990.png  malignant            200   \n",
       "3             ../train_aug/original_2934.png  malignant            100   \n",
       "4             ../train_aug/original_4068.png  malignant            200   \n",
       "...                                      ...        ...            ...   \n",
       "5815  ../train_aug/augmented_1365_0_5546.png     benign            400   \n",
       "5816           ../train_aug/original_728.png     benign            400   \n",
       "5817   ../train_aug/augmented_728_0_2283.png     benign            400   \n",
       "5818          ../train_aug/original_6448.png  malignant            100   \n",
       "5819          ../train_aug/original_7531.png  malignant            100   \n",
       "\n",
       "            tumor_subtype  \n",
       "0     papillary_carcinoma  \n",
       "1        ductal_carcinoma  \n",
       "2        ductal_carcinoma  \n",
       "3     papillary_carcinoma  \n",
       "4        ductal_carcinoma  \n",
       "...                   ...  \n",
       "5815         fibroadenoma  \n",
       "5816      phyllodes_tumor  \n",
       "5817      phyllodes_tumor  \n",
       "5818     ductal_carcinoma  \n",
       "5819    lobular_carcinoma  \n",
       "\n",
       "[5820 rows x 4 columns]>"
      ]
     },
     "execution_count": 15,
     "metadata": {},
     "output_type": "execute_result"
    }
   ],
   "source": [
    "aug_train_df.info"
   ]
  },
  {
   "cell_type": "code",
   "execution_count": 8,
   "metadata": {},
   "outputs": [
    {
     "data": {
      "text/plain": [
       "'/rds/general/user/js4124/home/ML_BreakHis/scr'"
      ]
     },
     "execution_count": 8,
     "metadata": {},
     "output_type": "execute_result"
    }
   ],
   "source": [
    "pwd"
   ]
  },
  {
   "cell_type": "code",
   "execution_count": null,
   "metadata": {},
   "outputs": [],
   "source": []
  }
 ],
 "metadata": {
  "kernelspec": {
   "display_name": "Python [conda env:ml_py]",
   "language": "python",
   "name": "conda-env-ml_py-py"
  },
  "language_info": {
   "codemirror_mode": {
    "name": "ipython",
    "version": 3
   },
   "file_extension": ".py",
   "mimetype": "text/x-python",
   "name": "python",
   "nbconvert_exporter": "python",
   "pygments_lexer": "ipython3",
   "version": "3.9.21"
  }
 },
 "nbformat": 4,
 "nbformat_minor": 2
}
